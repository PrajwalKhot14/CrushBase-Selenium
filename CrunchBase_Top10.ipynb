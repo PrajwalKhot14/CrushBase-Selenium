{
 "cells": [
  {
   "cell_type": "code",
   "execution_count": 1,
   "id": "e07cd6b7",
   "metadata": {},
   "outputs": [],
   "source": [
    "import requests, time, random\n",
    "from bs4 import BeautifulSoup\n",
    "from selenium import webdriver\n",
    "from tqdm import tqdm"
   ]
  },
  {
   "cell_type": "code",
   "execution_count": 2,
   "id": "fb07600b",
   "metadata": {},
   "outputs": [],
   "source": [
    "def scroll(time):\n",
    "    SCROLL_PAUSE_TIME = time\n",
    "    last_height = browser.execute_script(\"return document.body.scrollHeight\")\n",
    "    for i in range(3):\n",
    "        browser.execute_script(\"window.scrollTo(0, document.body.scrollHeight);\")\n",
    "        time.sleep(SCROLL_PAUSE_TIME)\n",
    "        new_height = browser.execute_script(\"return document.body.scrollHeight\")\n",
    "        if new_height == last_height:\n",
    "            break\n",
    "        last_height = new_height"
   ]
  },
  {
   "cell_type": "code",
   "execution_count": 11,
   "id": "fa41c44b",
   "metadata": {},
   "outputs": [],
   "source": [
    "url = 'https://www.crunchbase.com/organization/'\n",
    "companies_1 = ['amazon', 'alphabet', 'tencent', 'nvidia', 'dapper-labs']\n",
    "companies_2 = ['apollo-global-management-llc', 'yahoo', 'roblox', 'leadroll', 'epic-games-2']\n",
    "def get_data(company):\n",
    "    browser = webdriver.Chrome('/usr/local/bin/chromedriver')\n",
    "    browser.get(url+company+'/people')\n",
    "#     scroll(randrange(20))\n",
    "    src = browser.page_source\n",
    "    soup = BeautifulSoup(src, 'lxml')\n",
    "    \n",
    "    profiles = []\n",
    "    for i in soup.find_all('contacts-card-row', {'class': 'ng-star-inserted'}):\n",
    "        profiles.append(i)\n",
    "    profiles = profiles[:11]\n",
    "    \n",
    "    names = []\n",
    "    for i in profiles:\n",
    "        if i.find('div', {'class': 'name'}):\n",
    "            names.append(i.find('div', {'class': 'name'}).text)\n",
    "            \n",
    "    job_title = []\n",
    "    for i in profiles:\n",
    "        if i.find('div', {'class': 'job-title ng-star-inserted'}):\n",
    "            job_title.append(i.find('div', {'class': 'job-title ng-star-inserted'}).text)\n",
    "            \n",
    "    executive_level = []\n",
    "    for i in profiles:\n",
    "        if i.find('a', {'class': 'component--field-formatter field-type-enum_multi link-accent ng-star-inserted'}):\n",
    "            executive_level.append(i.find('a', {'class': 'component--field-formatter field-type-enum_multi link-accent ng-star-inserted'}).text)\n",
    "            \n",
    "    department = []\n",
    "    dept = {}\n",
    "    for i in profiles:\n",
    "        if i.find_all('a', {'class': 'component--field-formatter field-type-enum_multi link-accent ng-star-inserted'}):\n",
    "            dept[i.text] = i.find_all('a', {'class': 'component--field-formatter field-type-enum_multi link-accent ng-star-inserted'})\n",
    "    lst = []\n",
    "    for key, value in dept.items():\n",
    "        for i in range(1, len(dept[key])):\n",
    "            lst.append(dept[key][i].text)\n",
    "        department.append(lst)\n",
    "        lst = []\n",
    "    department_list = []\n",
    "    for i in range(len(department)):\n",
    "        department_list.append(', '.join(department[i]))\n",
    "    dict_3 = {}\n",
    "    for i in range(0,len(profiles)):\n",
    "        dict_3[names[i]] = [job_title[i], executive_level[i], department_list[i]]\n",
    "#         print(names[i])\n",
    "#         print(job_title[i])\n",
    "#         print(executive_level[i])\n",
    "#         print(department_list[i])\n",
    "#         print()\n",
    "    browser.close()\n",
    "    return dict_3"
   ]
  },
  {
   "cell_type": "code",
   "execution_count": 12,
   "id": "18648b78",
   "metadata": {},
   "outputs": [
    {
     "name": "stderr",
     "output_type": "stream",
     "text": [
      "\r",
      "  0%|          | 0/5 [00:00<?, ?it/s]"
     ]
    },
    {
     "name": "stdout",
     "output_type": "stream",
     "text": [
      "{'Brian Olsavsky': ['Chief Financial Officer', 'Executive', 'Finance, Management'], 'Brittany Arkel': ['Chief of Staff for World Wide Ops Global Talent', 'Executive', 'Operations, Sales'], 'Carlos Sanchez-Arruti': ['CFO Amazon LATAM', 'Executive', 'Operations'], 'Deedra Hilaire': ['Chief Strategy Officer (CSO)', 'Executive', 'Operations'], 'Javier Butler': ['DCEO, Chief Engineer', 'Executive', 'Engineering'], 'John Flynn': ['Ciso', 'Executive', 'Information Technology, Management'], 'Jud Mcdougal': ['Chief Pilot', 'Executive', 'Management, Operations'], 'Kenneth Roecks': ['Senior Software Development Engineer', 'Executive', 'Operations'], 'Michael Cava': ['Chief Security Officer', 'Executive', 'Management, Operations'], 'Pat Bajari': ['VP Core AI Amd Chief Economist', 'Executive', 'Management, Operations']}\n"
     ]
    },
    {
     "name": "stderr",
     "output_type": "stream",
     "text": [
      "\r",
      " 20%|██        | 1/5 [00:17<01:08, 17.08s/it]"
     ]
    },
    {
     "name": "stdout",
     "output_type": "stream",
     "text": [
      "{'Austin Guy': ['Founder', 'Executive', 'Operations'], 'Revanth Koppisetti': ['Founder', 'Executive', 'Operations'], 'Shahryar Bachani': ['Corporate Finance and Strategy (Office of the CFO)', 'Executive', 'Finance'], 'Carolina Ellerker': ['Head of Global Equity Management', 'VP', 'Management, Operations'], 'Elmer Dispo': ['Head of Banking Operations', 'VP', 'Operations'], 'Jim Campbell': ['VP, Corporate Controller - Alphabet', 'VP', 'Finance'], 'Adam Barker': ['Finance Director, Other Bets Portfolio', 'Director', 'Finance'], 'Alexander Brunt': ['SAP Sales Director', 'Director', 'Sales'], 'Ken Yi': ['Director, Legal - Securities, Corporate Governance and Finance', 'Director', 'Legal'], 'Surya Krishnan': ['Director', 'Director', 'Management, Operations']}\n"
     ]
    },
    {
     "name": "stderr",
     "output_type": "stream",
     "text": [
      "\r",
      " 40%|████      | 2/5 [00:32<00:49, 16.36s/it]"
     ]
    },
    {
     "name": "stdout",
     "output_type": "stream",
     "text": [
      "{'Alice Zhang': ['COO', 'Executive', 'Operations'], 'Anna Tang': ['Chief', 'Executive', 'Operations'], 'Anna Zhou': ['COO', 'Executive', 'Operations'], 'Bobby Zhang': ['Chief Architect and Principal Engineer, Cloud-Native Products, Tencent Cloud', 'Executive', 'Engineering'], 'Caitlin Spires': ['Chief Executive Officer', 'Executive', 'Management'], 'Carrot Lin': ['Editor in Chief', 'Executive', 'Operations'], 'Chelsu Park': ['CEO', 'Executive', 'Operations'], 'Chen Changan': ['COO', 'Executive', 'Operations'], 'Cheung Killian': ['CFO', 'Executive', 'Operations'], 'Coolxiandao Zhang': ['Editor in Chief', 'Executive', 'Operations']}\n"
     ]
    },
    {
     "name": "stderr",
     "output_type": "stream",
     "text": [
      "\r",
      " 60%|██████    | 3/5 [00:50<00:33, 16.93s/it]"
     ]
    },
    {
     "name": "stdout",
     "output_type": "stream",
     "text": [
      "{'Alex Aizman': ['Chief Storage Architect', 'Executive', 'Operations'], 'Bojan Vukojevic': ['Chief Cloud Architect', 'Executive', 'Operations'], 'Brian Caulfield': ['Chief Blogger', 'Executive', 'Management, Operations'], 'Brian Perez': ['Sr. Visual Designer', 'Executive', 'Operations'], 'Francisco Daconceicao': ['Chief Engineer', 'Executive', 'Engineering'], 'Jensen Huang': ['Founder and CEO', 'Executive', 'Management, Operations'], 'Milind Naphade': ['CTO, Metropolis', 'Executive', 'Operations'], 'Parthasarathy Sriram': ['Chief Systems Software Architect & V.P. Of Engineering', 'Executive', 'Engineering, Management'], 'Piyush Modi': ['Business Development & Chief Strategist, Industrial Sector', 'Executive', 'Management, Operations'], 'Robert Ober': ['Tesla Chief Platform Architect', 'Executive', 'Operations']}\n"
     ]
    },
    {
     "name": "stderr",
     "output_type": "stream",
     "text": [
      "\r",
      " 80%|████████  | 4/5 [01:06<00:16, 16.46s/it]"
     ]
    },
    {
     "name": "stdout",
     "output_type": "stream",
     "text": [
      "{'Alexander Hentschel': ['Chief Protocol Architect of the Flow Blockchain', 'Executive', 'Operations'], 'Blessilda Urbi': ['Administrative Business Partner to CEO / Exec Operations Lead', 'Executive', 'Operations'], 'Dieter Shirley': ['CTO', 'Executive', 'Operations'], 'Mikhael Naayem': ['Chief Business Officer & Cofounder', 'Executive', 'Operations'], 'Roham Gharegozlou': ['CEO', 'Executive', 'Operations'], 'Daniel Frank': ['Head of Professional Services', 'VP', 'Operations'], 'Denise Schwenck': ['Head of Creative NBA Top Shot', 'VP', 'Management, Operations'], 'Gagan Palrecha': ['Vice President Operations', 'VP', 'Management, Operations'], 'Grace Kenworthy': ['VP of Customer Success', 'VP', 'Management, Operations'], 'Leo (Chiqing) Zhang': ['Head of Scaling', 'VP', 'Operations']}\n"
     ]
    },
    {
     "name": "stderr",
     "output_type": "stream",
     "text": [
      "100%|██████████| 5/5 [01:22<00:00, 16.44s/it]\n"
     ]
    }
   ],
   "source": [
    "company_details = {}\n",
    "for i in tqdm(companies_1):\n",
    "    print(get_data(i))\n",
    "    company_details[i] = get_data(i)"
   ]
  },
  {
   "cell_type": "code",
   "execution_count": 14,
   "id": "4296fa58",
   "metadata": {},
   "outputs": [
    {
     "name": "stderr",
     "output_type": "stream",
     "text": [
      "\r",
      "  0%|          | 0/5 [00:00<?, ?it/s]"
     ]
    },
    {
     "name": "stdout",
     "output_type": "stream",
     "text": [
      "{'Adam Eling': ['Principal - COO Business Strategy Team', 'Executive', 'Operations'], 'Anthony Civale': ['Co-Chief Operating Officer, Apollo', 'Executive', 'Management, Operations'], 'Gregory Hunt': ['Chief Financial Officer of Apollo Investment Corporation', 'Executive', 'Finance, Management'], 'James Crossen': ['Chief Financial Officer- Private Equity', 'Executive', 'Finance, Management'], 'Jamey Lamanna': ['Chief Information Officer', 'Executive', 'Information Technology'], 'Jasjit Singh': ['Chief Risk Officer', 'Executive', 'Operations'], 'Kristen Mcmahon': ['COO', 'Executive', 'Operations'], 'Kyle Cardone': ['Chief of Staff, Office of the Co-Presidents', 'Executive', 'Management, Operations'], 'Martin Kelly': ['CFO', 'Executive', 'Finance, Operations'], 'Naum Minchin': ['Chief of Staff, Office of the COOs', 'Executive', 'Management, Operations']}\n"
     ]
    },
    {
     "name": "stderr",
     "output_type": "stream",
     "text": [
      "\r",
      " 20%|██        | 1/5 [00:17<01:10, 17.55s/it]"
     ]
    },
    {
     "name": "stdout",
     "output_type": "stream",
     "text": [
      "{'Aimee Wyatt': ['Chief Executive', 'Executive', 'Operations'], 'Ana Ventura': ['Chief Executive', 'Executive', 'Operations'], 'Andrew White': ['Chief Executive', 'Executive', 'Operations'], 'Andy Serwer': ['Editor in Chief', 'Executive', 'Operations'], 'Ariana Krawitz': ['Chief Executive', 'Executive', 'Operations'], 'Carole Gordon': ['Chairman', 'Executive', 'Management'], 'Chandru Primlani': ['Chairman', 'Executive', 'Management'], 'Chelsa Arscott': ['Chairman', 'Executive', 'Management'], 'Chen Long': ['Senior Data Insights Analyst', 'Executive', 'Management, Operations'], 'Ciro Perozo': ['Chief Executive', 'Executive', 'Operations']}\n"
     ]
    },
    {
     "name": "stderr",
     "output_type": "stream",
     "text": [
      "\r",
      " 40%|████      | 2/5 [00:33<00:49, 16.37s/it]"
     ]
    },
    {
     "name": "stdout",
     "output_type": "stream",
     "text": [
      "{'Amanda Nunez': ['Office of the CEO', 'Executive', 'Operations'], 'Ariel Lichtin': ['Sr Gaming Mobile Developer', 'Executive', 'Operations'], 'Craig Donato': ['Chief Business Officer', 'Executive', 'Operations'], 'Daniel Sturman': ['Chief Technology Officer', 'Executive', 'Operations'], 'David Baszucki': ['Founder and CEO', 'Executive', 'Management, Operations'], 'Jessie Duan': ['Chief of Staff to the CTO', 'Executive', 'Operations'], 'John Godinez': ['Chief Executive Officer', 'Executive', 'Management'], 'Michael Guthrie': ['Chief Financial Officer', 'Executive', 'Finance'], 'Ari Staiman': ['President (Roblox China)', 'VP', 'Operations'], 'Bjorn Book-Larsson': ['Vice President of Product / Avatar', 'VP', 'Operations']}\n"
     ]
    },
    {
     "name": "stderr",
     "output_type": "stream",
     "text": [
      "\r",
      " 60%|██████    | 3/5 [00:49<00:32, 16.17s/it]"
     ]
    },
    {
     "name": "stdout",
     "output_type": "stream",
     "text": [
      "{'Ian Tappan': ['COO/Co-Owner', 'Executive', 'Operations'], 'Tyler Kemp - I help with Growth': ['Chief Executive Officer', 'Executive', 'Management'], 'Daniel Tappan': ['Head of Sales and Business Development', 'VP', 'Sales'], 'Stefi Galvan': ['Human Resources Manager', 'Manager', 'Human Resources']}\n"
     ]
    },
    {
     "name": "stderr",
     "output_type": "stream",
     "text": [
      "\r",
      " 80%|████████  | 4/5 [01:03<00:15, 15.48s/it]"
     ]
    },
    {
     "name": "stdout",
     "output_type": "stream",
     "text": [
      "{'Donald Mustard': ['Chief Creative Officer (CCO)', 'Executive', 'Management, Operations'], 'Holger Schmidt': ['Chief Executive Officer', 'Executive', 'Management'], 'Joe Babcock': ['Chief Financial Officer', 'Executive', 'Finance'], 'Kim Libreri': ['CTO', 'Executive', 'Engineering, Operations'], 'Monika Fahlbusch': ['Chief People Officer', 'Executive', 'Management, Operations'], 'Nate Mallett': ['Acting CEO', 'Executive', 'Operations'], 'Randy Gelber': ['Chief Financial Officer', 'Executive', 'Finance, Management'], 'Adam Sussman': ['President', 'VP', 'Management, Operations'], 'David Stelzer': ['Director, Unreal Engine Business Development and Licensing', 'VP', 'Operations'], 'Joe Kreiner': ['Vice President of Business Development', 'VP', 'Operations']}\n"
     ]
    },
    {
     "name": "stderr",
     "output_type": "stream",
     "text": [
      "100%|██████████| 5/5 [01:20<00:00, 16.19s/it]\n"
     ]
    }
   ],
   "source": [
    "for i in tqdm(companies_2):\n",
    "    print(get_data(i))\n",
    "    company_details[i] = get_data(i)"
   ]
  },
  {
   "cell_type": "code",
   "execution_count": 17,
   "id": "ecbb7459",
   "metadata": {},
   "outputs": [
    {
     "data": {
      "text/plain": [
       "{'amazon': {'Brian Olsavsky': ['Chief Financial Officer',\n",
       "   'Executive',\n",
       "   'Finance, Management'],\n",
       "  'Brittany Arkel': ['Chief of Staff for World Wide Ops Global Talent',\n",
       "   'Executive',\n",
       "   'Operations, Sales'],\n",
       "  'Carlos Sanchez-Arruti': ['CFO Amazon LATAM', 'Executive', 'Operations'],\n",
       "  'Deedra Hilaire': ['Chief Strategy Officer (CSO)',\n",
       "   'Executive',\n",
       "   'Operations'],\n",
       "  'Javier Butler': ['DCEO, Chief Engineer', 'Executive', 'Engineering'],\n",
       "  'John Flynn': ['Ciso', 'Executive', 'Information Technology, Management'],\n",
       "  'Jud Mcdougal': ['Chief Pilot', 'Executive', 'Management, Operations'],\n",
       "  'Kenneth Roecks': ['Senior Software Development Engineer',\n",
       "   'Executive',\n",
       "   'Operations'],\n",
       "  'Michael Cava': ['Chief Security Officer',\n",
       "   'Executive',\n",
       "   'Management, Operations'],\n",
       "  'Pat Bajari': ['VP Core AI Amd Chief Economist',\n",
       "   'Executive',\n",
       "   'Management, Operations']},\n",
       " 'alphabet': {'Austin Guy': ['Founder', 'Executive', 'Operations'],\n",
       "  'Revanth Koppisetti': ['Founder', 'Executive', 'Operations'],\n",
       "  'Shahryar Bachani': ['Corporate Finance and Strategy (Office of the CFO)',\n",
       "   'Executive',\n",
       "   'Finance'],\n",
       "  'Carolina Ellerker': ['Head of Global Equity Management',\n",
       "   'VP',\n",
       "   'Management, Operations'],\n",
       "  'Elmer Dispo': ['Head of Banking Operations', 'VP', 'Operations'],\n",
       "  'Jim Campbell': ['VP, Corporate Controller - Alphabet', 'VP', 'Finance'],\n",
       "  'Adam Barker': ['Finance Director, Other Bets Portfolio',\n",
       "   'Director',\n",
       "   'Finance'],\n",
       "  'Alexander Brunt': ['SAP Sales Director', 'Director', 'Sales'],\n",
       "  'Ken Yi': ['Director, Legal - Securities, Corporate Governance and Finance',\n",
       "   'Director',\n",
       "   'Legal'],\n",
       "  'Surya Krishnan': ['Director', 'Director', 'Management, Operations']},\n",
       " 'tencent': {'Alice Zhang': ['COO', 'Executive', 'Operations'],\n",
       "  'Anna Tang': ['Chief', 'Executive', 'Operations'],\n",
       "  'Anna Zhou': ['COO', 'Executive', 'Operations'],\n",
       "  'Bobby Zhang': ['Chief Architect and Principal Engineer, Cloud-Native Products, Tencent Cloud',\n",
       "   'Executive',\n",
       "   'Engineering'],\n",
       "  'Caitlin Spires': ['Chief Executive Officer', 'Executive', 'Management'],\n",
       "  'Carrot Lin': ['Editor in Chief', 'Executive', 'Operations'],\n",
       "  'Chelsu Park': ['CEO', 'Executive', 'Operations'],\n",
       "  'Chen Changan': ['COO', 'Executive', 'Operations'],\n",
       "  'Cheung Killian': ['CFO', 'Executive', 'Operations'],\n",
       "  'Coolxiandao Zhang': ['Editor in Chief', 'Executive', 'Operations']},\n",
       " 'nvidia': {'Alex Aizman': ['Chief Storage Architect',\n",
       "   'Executive',\n",
       "   'Operations'],\n",
       "  'Bojan Vukojevic': ['Chief Cloud Architect', 'Executive', 'Operations'],\n",
       "  'Brian Caulfield': ['Chief Blogger', 'Executive', 'Management, Operations'],\n",
       "  'Brian Perez': ['Sr. Visual Designer', 'Executive', 'Operations'],\n",
       "  'Francisco Daconceicao': ['Chief Engineer', 'Executive', 'Engineering'],\n",
       "  'Jensen Huang': ['Founder and CEO', 'Executive', 'Management, Operations'],\n",
       "  'Milind Naphade': ['CTO, Metropolis', 'Executive', 'Operations'],\n",
       "  'Parthasarathy Sriram': ['Chief Systems Software Architect & V.P. Of Engineering',\n",
       "   'Executive',\n",
       "   'Engineering, Management'],\n",
       "  'Piyush Modi': ['Business Development & Chief Strategist, Industrial Sector',\n",
       "   'Executive',\n",
       "   'Management, Operations'],\n",
       "  'Robert Ober': ['Tesla Chief Platform Architect',\n",
       "   'Executive',\n",
       "   'Operations']},\n",
       " 'dapper-labs': {'Alexander Hentschel': ['Chief Protocol Architect of the Flow Blockchain',\n",
       "   'Executive',\n",
       "   'Operations'],\n",
       "  'Blessilda Urbi': ['Administrative Business Partner to CEO / Exec Operations Lead',\n",
       "   'Executive',\n",
       "   'Operations'],\n",
       "  'Dieter Shirley': ['CTO', 'Executive', 'Operations'],\n",
       "  'Mikhael Naayem': ['Chief Business Officer & Cofounder',\n",
       "   'Executive',\n",
       "   'Operations'],\n",
       "  'Roham Gharegozlou': ['CEO', 'Executive', 'Operations'],\n",
       "  'Daniel Frank': ['Head of Professional Services', 'VP', 'Operations'],\n",
       "  'Denise Schwenck': ['Head of Creative NBA Top Shot',\n",
       "   'VP',\n",
       "   'Management, Operations'],\n",
       "  'Gagan Palrecha': ['Vice President Operations',\n",
       "   'VP',\n",
       "   'Management, Operations'],\n",
       "  'Grace Kenworthy': ['VP of Customer Success',\n",
       "   'VP',\n",
       "   'Management, Operations'],\n",
       "  'Leo (Chiqing) Zhang': ['Head of Scaling', 'VP', 'Operations']},\n",
       " 'apollo-global-management-llc': {'Adam Eling': ['Principal - COO Business Strategy Team',\n",
       "   'Executive',\n",
       "   'Operations'],\n",
       "  'Anthony Civale': ['Co-Chief Operating Officer, Apollo',\n",
       "   'Executive',\n",
       "   'Management, Operations'],\n",
       "  'Gregory Hunt': ['Chief Financial Officer of Apollo Investment Corporation',\n",
       "   'Executive',\n",
       "   'Finance, Management'],\n",
       "  'James Crossen': ['Chief Financial Officer- Private Equity',\n",
       "   'Executive',\n",
       "   'Finance, Management'],\n",
       "  'Jamey Lamanna': ['Chief Information Officer',\n",
       "   'Executive',\n",
       "   'Information Technology'],\n",
       "  'Jasjit Singh': ['Chief Risk Officer', 'Executive', 'Operations'],\n",
       "  'Kristen Mcmahon': ['COO', 'Executive', 'Operations'],\n",
       "  'Kyle Cardone': ['Chief of Staff, Office of the Co-Presidents',\n",
       "   'Executive',\n",
       "   'Management, Operations'],\n",
       "  'Martin Kelly': ['CFO', 'Executive', 'Finance, Operations'],\n",
       "  'Naum Minchin': ['Chief of Staff, Office of the COOs',\n",
       "   'Executive',\n",
       "   'Management, Operations']},\n",
       " 'yahoo': {'Aimee Wyatt': ['Chief Executive', 'Executive', 'Operations'],\n",
       "  'Ana Ventura': ['Chief Executive', 'Executive', 'Operations'],\n",
       "  'Andrew White': ['Chief Executive', 'Executive', 'Operations'],\n",
       "  'Andy Serwer': ['Editor in Chief', 'Executive', 'Operations'],\n",
       "  'Ariana Krawitz': ['Chief Executive', 'Executive', 'Operations'],\n",
       "  'Carole Gordon': ['Chairman', 'Executive', 'Management'],\n",
       "  'Chandru Primlani': ['Chairman', 'Executive', 'Management'],\n",
       "  'Chelsa Arscott': ['Chairman', 'Executive', 'Management'],\n",
       "  'Chen Long': ['Senior Data Insights Analyst',\n",
       "   'Executive',\n",
       "   'Management, Operations'],\n",
       "  'Ciro Perozo': ['Chief Executive', 'Executive', 'Operations']},\n",
       " 'roblox': {'Amanda Nunez': ['Office of the CEO', 'Executive', 'Operations'],\n",
       "  'Ariel Lichtin': ['Sr Gaming Mobile Developer', 'Executive', 'Operations'],\n",
       "  'Craig Donato': ['Chief Business Officer', 'Executive', 'Operations'],\n",
       "  'Daniel Sturman': ['Chief Technology Officer', 'Executive', 'Operations'],\n",
       "  'David Baszucki': ['Founder and CEO', 'Executive', 'Management, Operations'],\n",
       "  'Jessie Duan': ['Chief of Staff to the CTO', 'Executive', 'Operations'],\n",
       "  'John Godinez': ['Chief Executive Officer', 'Executive', 'Management'],\n",
       "  'Michael Guthrie': ['Chief Financial Officer', 'Executive', 'Finance'],\n",
       "  'Ari Staiman': ['President (Roblox China)', 'VP', 'Operations'],\n",
       "  'Bjorn Book-Larsson': ['Vice President of Product / Avatar',\n",
       "   'VP',\n",
       "   'Operations']},\n",
       " 'leadroll': {'Ian Tappan': ['COO/Co-Owner', 'Executive', 'Operations'],\n",
       "  'Tyler Kemp - I help with Growth': ['Chief Executive Officer',\n",
       "   'Executive',\n",
       "   'Management'],\n",
       "  'Daniel Tappan': ['Head of Sales and Business Development', 'VP', 'Sales'],\n",
       "  'Stefi Galvan': ['Human Resources Manager', 'Manager', 'Human Resources']},\n",
       " 'epic-games-2': {'Donald Mustard': ['Chief Creative Officer (CCO)',\n",
       "   'Executive',\n",
       "   'Management, Operations'],\n",
       "  'Holger Schmidt': ['Chief Executive Officer', 'Executive', 'Management'],\n",
       "  'Joe Babcock': ['Chief Financial Officer', 'Executive', 'Finance'],\n",
       "  'Kim Libreri': ['CTO', 'Executive', 'Engineering, Operations'],\n",
       "  'Monika Fahlbusch': ['Chief People Officer',\n",
       "   'Executive',\n",
       "   'Management, Operations'],\n",
       "  'Nate Mallett': ['Acting CEO', 'Executive', 'Operations'],\n",
       "  'Randy Gelber': ['Chief Financial Officer',\n",
       "   'Executive',\n",
       "   'Finance, Management'],\n",
       "  'Adam Sussman': ['President', 'VP', 'Management, Operations'],\n",
       "  'David Stelzer': ['Director, Unreal Engine Business Development and Licensing',\n",
       "   'VP',\n",
       "   'Operations'],\n",
       "  'Joe Kreiner': ['Vice President of Business Development',\n",
       "   'VP',\n",
       "   'Operations']}}"
      ]
     },
     "execution_count": 17,
     "metadata": {},
     "output_type": "execute_result"
    }
   ],
   "source": [
    "company_details"
   ]
  },
  {
   "cell_type": "code",
   "execution_count": 20,
   "id": "8abd7942",
   "metadata": {},
   "outputs": [
    {
     "name": "stdout",
     "output_type": "stream",
     "text": [
      "amazon\n",
      "alphabet\n",
      "tencent\n",
      "nvidia\n",
      "dapper-labs\n",
      "apollo-global-management-llc\n",
      "yahoo\n",
      "roblox\n",
      "leadroll\n",
      "epic-games-2\n"
     ]
    }
   ],
   "source": [
    "for k, v in company_details.items():\n",
    "    print(k)"
   ]
  },
  {
   "cell_type": "code",
   "execution_count": 22,
   "id": "3fd99711",
   "metadata": {},
   "outputs": [
    {
     "data": {
      "text/plain": [
       "{'Ian Tappan': ['COO/Co-Owner', 'Executive', 'Operations'],\n",
       " 'Tyler Kemp - I help with Growth': ['Chief Executive Officer',\n",
       "  'Executive',\n",
       "  'Management'],\n",
       " 'Daniel Tappan': ['Head of Sales and Business Development', 'VP', 'Sales'],\n",
       " 'Stefi Galvan': ['Human Resources Manager', 'Manager', 'Human Resources']}"
      ]
     },
     "execution_count": 22,
     "metadata": {},
     "output_type": "execute_result"
    }
   ],
   "source": [
    "company_details['leadroll']"
   ]
  },
  {
   "cell_type": "code",
   "execution_count": 25,
   "id": "7e980ab8",
   "metadata": {},
   "outputs": [
    {
     "name": "stdout",
     "output_type": "stream",
     "text": [
      "            Brian Olsavsky                                   Brittany Arkel  \\\n",
      "0  Chief Financial Officer  Chief of Staff for World Wide Ops Global Talent   \n",
      "1                Executive                                        Executive   \n",
      "2      Finance, Management                                Operations, Sales   \n",
      "\n",
      "  Carlos Sanchez-Arruti                Deedra Hilaire         Javier Butler  \\\n",
      "0      CFO Amazon LATAM  Chief Strategy Officer (CSO)  DCEO, Chief Engineer   \n",
      "1             Executive                     Executive             Executive   \n",
      "2            Operations                    Operations           Engineering   \n",
      "\n",
      "                           John Flynn            Jud Mcdougal  \\\n",
      "0                                Ciso             Chief Pilot   \n",
      "1                           Executive               Executive   \n",
      "2  Information Technology, Management  Management, Operations   \n",
      "\n",
      "                         Kenneth Roecks            Michael Cava  \\\n",
      "0  Senior Software Development Engineer  Chief Security Officer   \n",
      "1                             Executive               Executive   \n",
      "2                            Operations  Management, Operations   \n",
      "\n",
      "                       Pat Bajari  \n",
      "0  VP Core AI Amd Chief Economist  \n",
      "1                       Executive  \n",
      "2          Management, Operations  \n",
      "-------------------------------------------------------------------------------------\n",
      "   Austin Guy Revanth Koppisetti  \\\n",
      "0     Founder            Founder   \n",
      "1   Executive          Executive   \n",
      "2  Operations         Operations   \n",
      "\n",
      "                                    Shahryar Bachani  \\\n",
      "0  Corporate Finance and Strategy (Office of the ...   \n",
      "1                                          Executive   \n",
      "2                                            Finance   \n",
      "\n",
      "                  Carolina Ellerker                 Elmer Dispo  \\\n",
      "0  Head of Global Equity Management  Head of Banking Operations   \n",
      "1                                VP                          VP   \n",
      "2            Management, Operations                  Operations   \n",
      "\n",
      "                          Jim Campbell  \\\n",
      "0  VP, Corporate Controller - Alphabet   \n",
      "1                                   VP   \n",
      "2                              Finance   \n",
      "\n",
      "                              Adam Barker     Alexander Brunt  \\\n",
      "0  Finance Director, Other Bets Portfolio  SAP Sales Director   \n",
      "1                                Director            Director   \n",
      "2                                 Finance               Sales   \n",
      "\n",
      "                                              Ken Yi          Surya Krishnan  \n",
      "0  Director, Legal - Securities, Corporate Govern...                Director  \n",
      "1                                           Director                Director  \n",
      "2                                              Legal  Management, Operations  \n",
      "-------------------------------------------------------------------------------------\n",
      "  Alice Zhang   Anna Tang   Anna Zhou  \\\n",
      "0         COO       Chief         COO   \n",
      "1   Executive   Executive   Executive   \n",
      "2  Operations  Operations  Operations   \n",
      "\n",
      "                                         Bobby Zhang           Caitlin Spires  \\\n",
      "0  Chief Architect and Principal Engineer, Cloud-...  Chief Executive Officer   \n",
      "1                                          Executive                Executive   \n",
      "2                                        Engineering               Management   \n",
      "\n",
      "        Carrot Lin Chelsu Park Chen Changan Cheung Killian Coolxiandao Zhang  \n",
      "0  Editor in Chief         CEO          COO            CFO   Editor in Chief  \n",
      "1        Executive   Executive    Executive      Executive         Executive  \n",
      "2       Operations  Operations   Operations     Operations        Operations  \n",
      "-------------------------------------------------------------------------------------\n",
      "               Alex Aizman        Bojan Vukojevic         Brian Caulfield  \\\n",
      "0  Chief Storage Architect  Chief Cloud Architect           Chief Blogger   \n",
      "1                Executive              Executive               Executive   \n",
      "2               Operations             Operations  Management, Operations   \n",
      "\n",
      "           Brian Perez Francisco Daconceicao            Jensen Huang  \\\n",
      "0  Sr. Visual Designer        Chief Engineer         Founder and CEO   \n",
      "1            Executive             Executive               Executive   \n",
      "2           Operations           Engineering  Management, Operations   \n",
      "\n",
      "    Milind Naphade                               Parthasarathy Sriram  \\\n",
      "0  CTO, Metropolis  Chief Systems Software Architect & V.P. Of Eng...   \n",
      "1        Executive                                          Executive   \n",
      "2       Operations                            Engineering, Management   \n",
      "\n",
      "                                         Piyush Modi  \\\n",
      "0  Business Development & Chief Strategist, Indus...   \n",
      "1                                          Executive   \n",
      "2                             Management, Operations   \n",
      "\n",
      "                      Robert Ober  \n",
      "0  Tesla Chief Platform Architect  \n",
      "1                       Executive  \n",
      "2                      Operations  \n",
      "-------------------------------------------------------------------------------------\n",
      "                               Alexander Hentschel  \\\n",
      "0  Chief Protocol Architect of the Flow Blockchain   \n",
      "1                                        Executive   \n",
      "2                                       Operations   \n",
      "\n",
      "                                      Blessilda Urbi Dieter Shirley  \\\n",
      "0  Administrative Business Partner to CEO / Exec ...            CTO   \n",
      "1                                          Executive      Executive   \n",
      "2                                         Operations     Operations   \n",
      "\n",
      "                       Mikhael Naayem Roham Gharegozlou  \\\n",
      "0  Chief Business Officer & Cofounder               CEO   \n",
      "1                           Executive         Executive   \n",
      "2                          Operations        Operations   \n",
      "\n",
      "                    Daniel Frank                Denise Schwenck  \\\n",
      "0  Head of Professional Services  Head of Creative NBA Top Shot   \n",
      "1                             VP                             VP   \n",
      "2                     Operations         Management, Operations   \n",
      "\n",
      "              Gagan Palrecha         Grace Kenworthy Leo (Chiqing) Zhang  \n",
      "0  Vice President Operations  VP of Customer Success     Head of Scaling  \n",
      "1                         VP                      VP                  VP  \n",
      "2     Management, Operations  Management, Operations          Operations  \n",
      "-------------------------------------------------------------------------------------\n",
      "                               Adam Eling                      Anthony Civale  \\\n",
      "0  Principal - COO Business Strategy Team  Co-Chief Operating Officer, Apollo   \n",
      "1                               Executive                           Executive   \n",
      "2                              Operations              Management, Operations   \n",
      "\n",
      "                                        Gregory Hunt  \\\n",
      "0  Chief Financial Officer of Apollo Investment C...   \n",
      "1                                          Executive   \n",
      "2                                Finance, Management   \n",
      "\n",
      "                             James Crossen              Jamey Lamanna  \\\n",
      "0  Chief Financial Officer- Private Equity  Chief Information Officer   \n",
      "1                                Executive                  Executive   \n",
      "2                      Finance, Management     Information Technology   \n",
      "\n",
      "         Jasjit Singh Kristen Mcmahon  \\\n",
      "0  Chief Risk Officer             COO   \n",
      "1           Executive       Executive   \n",
      "2          Operations      Operations   \n",
      "\n",
      "                                  Kyle Cardone         Martin Kelly  \\\n",
      "0  Chief of Staff, Office of the Co-Presidents                  CFO   \n",
      "1                                    Executive            Executive   \n",
      "2                       Management, Operations  Finance, Operations   \n",
      "\n",
      "                         Naum Minchin  \n",
      "0  Chief of Staff, Office of the COOs  \n",
      "1                           Executive  \n",
      "2              Management, Operations  \n",
      "-------------------------------------------------------------------------------------\n",
      "       Aimee Wyatt      Ana Ventura     Andrew White      Andy Serwer  \\\n",
      "0  Chief Executive  Chief Executive  Chief Executive  Editor in Chief   \n",
      "1        Executive        Executive        Executive        Executive   \n",
      "2       Operations       Operations       Operations       Operations   \n",
      "\n",
      "    Ariana Krawitz Carole Gordon Chandru Primlani Chelsa Arscott  \\\n",
      "0  Chief Executive      Chairman         Chairman       Chairman   \n",
      "1        Executive     Executive        Executive      Executive   \n",
      "2       Operations    Management       Management     Management   \n",
      "\n",
      "                      Chen Long      Ciro Perozo  \n",
      "0  Senior Data Insights Analyst  Chief Executive  \n",
      "1                     Executive        Executive  \n",
      "2        Management, Operations       Operations  \n",
      "-------------------------------------------------------------------------------------\n",
      "        Amanda Nunez               Ariel Lichtin            Craig Donato  \\\n",
      "0  Office of the CEO  Sr Gaming Mobile Developer  Chief Business Officer   \n",
      "1          Executive                   Executive               Executive   \n",
      "2         Operations                  Operations              Operations   \n",
      "\n",
      "             Daniel Sturman          David Baszucki  \\\n",
      "0  Chief Technology Officer         Founder and CEO   \n",
      "1                 Executive               Executive   \n",
      "2                Operations  Management, Operations   \n",
      "\n",
      "                 Jessie Duan             John Godinez  \\\n",
      "0  Chief of Staff to the CTO  Chief Executive Officer   \n",
      "1                  Executive                Executive   \n",
      "2                 Operations               Management   \n",
      "\n",
      "           Michael Guthrie               Ari Staiman  \\\n",
      "0  Chief Financial Officer  President (Roblox China)   \n",
      "1                Executive                        VP   \n",
      "2                  Finance                Operations   \n",
      "\n",
      "                   Bjorn Book-Larsson  \n",
      "0  Vice President of Product / Avatar  \n",
      "1                                  VP  \n",
      "2                          Operations  \n",
      "-------------------------------------------------------------------------------------\n",
      "     Ian Tappan Tyler Kemp - I help with Growth  \\\n",
      "0  COO/Co-Owner         Chief Executive Officer   \n",
      "1     Executive                       Executive   \n",
      "2    Operations                      Management   \n",
      "\n",
      "                            Daniel Tappan             Stefi Galvan  \n",
      "0  Head of Sales and Business Development  Human Resources Manager  \n",
      "1                                      VP                  Manager  \n",
      "2                                   Sales          Human Resources  \n",
      "-------------------------------------------------------------------------------------\n",
      "                 Donald Mustard           Holger Schmidt  \\\n",
      "0  Chief Creative Officer (CCO)  Chief Executive Officer   \n",
      "1                     Executive                Executive   \n",
      "2        Management, Operations               Management   \n",
      "\n",
      "               Joe Babcock              Kim Libreri        Monika Fahlbusch  \\\n",
      "0  Chief Financial Officer                      CTO    Chief People Officer   \n",
      "1                Executive                Executive               Executive   \n",
      "2                  Finance  Engineering, Operations  Management, Operations   \n",
      "\n",
      "  Nate Mallett             Randy Gelber            Adam Sussman  \\\n",
      "0   Acting CEO  Chief Financial Officer               President   \n",
      "1    Executive                Executive                      VP   \n",
      "2   Operations      Finance, Management  Management, Operations   \n",
      "\n",
      "                                       David Stelzer  \\\n",
      "0  Director, Unreal Engine Business Development a...   \n",
      "1                                                 VP   \n",
      "2                                         Operations   \n",
      "\n",
      "                              Joe Kreiner  \n",
      "0  Vice President of Business Development  \n",
      "1                                      VP  \n",
      "2                              Operations  \n",
      "-------------------------------------------------------------------------------------\n"
     ]
    }
   ],
   "source": [
    "import pandas as pd\n",
    "for k, v in company_details.items():\n",
    "    print(pd.DataFrame.from_dict(company_details[k]))\n",
    "    print(\"-\"*85)"
   ]
  },
  {
   "cell_type": "code",
   "execution_count": 26,
   "id": "9e11f9b8",
   "metadata": {},
   "outputs": [
    {
     "data": {
      "text/html": [
       "<div>\n",
       "<style scoped>\n",
       "    .dataframe tbody tr th:only-of-type {\n",
       "        vertical-align: middle;\n",
       "    }\n",
       "\n",
       "    .dataframe tbody tr th {\n",
       "        vertical-align: top;\n",
       "    }\n",
       "\n",
       "    .dataframe thead th {\n",
       "        text-align: right;\n",
       "    }\n",
       "</style>\n",
       "<table border=\"1\" class=\"dataframe\">\n",
       "  <thead>\n",
       "    <tr style=\"text-align: right;\">\n",
       "      <th></th>\n",
       "      <th>Brian Olsavsky</th>\n",
       "      <th>Brittany Arkel</th>\n",
       "      <th>Carlos Sanchez-Arruti</th>\n",
       "      <th>Deedra Hilaire</th>\n",
       "      <th>Javier Butler</th>\n",
       "      <th>John Flynn</th>\n",
       "      <th>Jud Mcdougal</th>\n",
       "      <th>Kenneth Roecks</th>\n",
       "      <th>Michael Cava</th>\n",
       "      <th>Pat Bajari</th>\n",
       "    </tr>\n",
       "  </thead>\n",
       "  <tbody>\n",
       "    <tr>\n",
       "      <th>0</th>\n",
       "      <td>Chief Financial Officer</td>\n",
       "      <td>Chief of Staff for World Wide Ops Global Talent</td>\n",
       "      <td>CFO Amazon LATAM</td>\n",
       "      <td>Chief Strategy Officer (CSO)</td>\n",
       "      <td>DCEO, Chief Engineer</td>\n",
       "      <td>Ciso</td>\n",
       "      <td>Chief Pilot</td>\n",
       "      <td>Senior Software Development Engineer</td>\n",
       "      <td>Chief Security Officer</td>\n",
       "      <td>VP Core AI Amd Chief Economist</td>\n",
       "    </tr>\n",
       "    <tr>\n",
       "      <th>1</th>\n",
       "      <td>Executive</td>\n",
       "      <td>Executive</td>\n",
       "      <td>Executive</td>\n",
       "      <td>Executive</td>\n",
       "      <td>Executive</td>\n",
       "      <td>Executive</td>\n",
       "      <td>Executive</td>\n",
       "      <td>Executive</td>\n",
       "      <td>Executive</td>\n",
       "      <td>Executive</td>\n",
       "    </tr>\n",
       "    <tr>\n",
       "      <th>2</th>\n",
       "      <td>Finance, Management</td>\n",
       "      <td>Operations, Sales</td>\n",
       "      <td>Operations</td>\n",
       "      <td>Operations</td>\n",
       "      <td>Engineering</td>\n",
       "      <td>Information Technology, Management</td>\n",
       "      <td>Management, Operations</td>\n",
       "      <td>Operations</td>\n",
       "      <td>Management, Operations</td>\n",
       "      <td>Management, Operations</td>\n",
       "    </tr>\n",
       "  </tbody>\n",
       "</table>\n",
       "</div>"
      ],
      "text/plain": [
       "            Brian Olsavsky                                   Brittany Arkel  \\\n",
       "0  Chief Financial Officer  Chief of Staff for World Wide Ops Global Talent   \n",
       "1                Executive                                        Executive   \n",
       "2      Finance, Management                                Operations, Sales   \n",
       "\n",
       "  Carlos Sanchez-Arruti                Deedra Hilaire         Javier Butler  \\\n",
       "0      CFO Amazon LATAM  Chief Strategy Officer (CSO)  DCEO, Chief Engineer   \n",
       "1             Executive                     Executive             Executive   \n",
       "2            Operations                    Operations           Engineering   \n",
       "\n",
       "                           John Flynn            Jud Mcdougal  \\\n",
       "0                                Ciso             Chief Pilot   \n",
       "1                           Executive               Executive   \n",
       "2  Information Technology, Management  Management, Operations   \n",
       "\n",
       "                         Kenneth Roecks            Michael Cava  \\\n",
       "0  Senior Software Development Engineer  Chief Security Officer   \n",
       "1                             Executive               Executive   \n",
       "2                            Operations  Management, Operations   \n",
       "\n",
       "                       Pat Bajari  \n",
       "0  VP Core AI Amd Chief Economist  \n",
       "1                       Executive  \n",
       "2          Management, Operations  "
      ]
     },
     "execution_count": 26,
     "metadata": {},
     "output_type": "execute_result"
    }
   ],
   "source": [
    "pd.DataFrame.from_dict(company_details['amazon'])"
   ]
  },
  {
   "cell_type": "code",
   "execution_count": null,
   "id": "562a0d48",
   "metadata": {},
   "outputs": [],
   "source": []
  }
 ],
 "metadata": {
  "kernelspec": {
   "display_name": "Python 3",
   "language": "python",
   "name": "python3"
  },
  "language_info": {
   "codemirror_mode": {
    "name": "ipython",
    "version": 3
   },
   "file_extension": ".py",
   "mimetype": "text/x-python",
   "name": "python",
   "nbconvert_exporter": "python",
   "pygments_lexer": "ipython3",
   "version": "3.8.8"
  }
 },
 "nbformat": 4,
 "nbformat_minor": 5
}
